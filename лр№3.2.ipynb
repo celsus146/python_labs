{
  "cells": [
    {
      "cell_type": "markdown",
      "metadata": {
        "id": "view-in-github",
        "colab_type": "text"
      },
      "source": [
        "<a href=\"https://colab.research.google.com/github/celsus146/python_labs/blob/main/%D0%BB%D1%80%E2%84%963.2.ipynb\" target=\"_parent\"><img src=\"https://colab.research.google.com/assets/colab-badge.svg\" alt=\"Open In Colab\"/></a>"
      ]
    },
    {
      "cell_type": "code",
      "source": [
        "def counting_zero(m):\n",
        "    k = 0\n",
        "    for i in range(len(m)):\n",
        "        if m[i] == 0:\n",
        "            k += 1\n",
        "            return k\n",
        "\n",
        "'''Ввод данных'''\n",
        "m = list()\n",
        "for i in range(10):\n",
        "    m.append(int(input()))\n",
        "\n",
        "print(counting_zero(m))"
      ],
      "metadata": {
        "id": "EWGqJTcFP2Px",
        "outputId": "b9736977-a298-43b9-8c1f-b1e756d0cda6",
        "colab": {
          "base_uri": "https://localhost:8080/"
        }
      },
      "execution_count": null,
      "outputs": [
        {
          "name": "stdout",
          "output_type": "stream",
          "text": [
            "7\n",
            "5\n",
            "3\n",
            "2\n",
            "1\n",
            "5\n",
            "0\n",
            "0\n",
            "5\n"
          ]
        }
      ]
    }
  ],
  "metadata": {
    "colab": {
      "name": "Добро пожаловать в Colaboratory!",
      "toc_visible": true,
      "provenance": [],
      "include_colab_link": true
    },
    "kernelspec": {
      "display_name": "Python 3",
      "name": "python3"
    }
  },
  "nbformat": 4,
  "nbformat_minor": 0
}