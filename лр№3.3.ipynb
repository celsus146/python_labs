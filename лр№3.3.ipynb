{
  "cells": [
    {
      "cell_type": "markdown",
      "metadata": {
        "id": "view-in-github",
        "colab_type": "text"
      },
      "source": [
        "<a href=\"https://colab.research.google.com/github/celsus146/python_labs/blob/main/%D0%BB%D1%80%E2%84%963.3.ipynb\" target=\"_parent\"><img src=\"https://colab.research.google.com/assets/colab-badge.svg\" alt=\"Open In Colab\"/></a>"
      ]
    },
    {
      "cell_type": "code",
      "source": [
        "def stairs(m):\n",
        "    for i in range(1, m + 1):\n",
        "        l = ''\n",
        "        for j in range(1, i + 1):\n",
        "            l = l + str(j)\n",
        "        print(l)\n",
        "    return 'End'\n",
        "\n",
        "'''Ввод данных'''\n",
        "m = 0\n",
        "m = int(input())\n",
        "\n",
        "print(stairs(m))"
      ],
      "metadata": {
        "id": "mb7sy9b_QWca",
        "outputId": "f8764a51-11b6-4437-9c69-e8c2762678bc",
        "colab": {
          "base_uri": "https://localhost:8080/"
        }
      },
      "execution_count": 5,
      "outputs": [
        {
          "output_type": "stream",
          "name": "stdout",
          "text": [
            "7\n",
            "1\n",
            "12\n",
            "123\n",
            "1234\n",
            "12345\n",
            "123456\n",
            "1234567\n",
            "End\n"
          ]
        }
      ]
    }
  ],
  "metadata": {
    "colab": {
      "name": "Добро пожаловать в Colaboratory!",
      "toc_visible": true,
      "provenance": [],
      "include_colab_link": true
    },
    "kernelspec": {
      "display_name": "Python 3",
      "name": "python3"
    }
  },
  "nbformat": 4,
  "nbformat_minor": 0
}