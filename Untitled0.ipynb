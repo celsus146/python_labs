{
  "nbformat": 4,
  "nbformat_minor": 0,
  "metadata": {
    "colab": {
      "provenance": [],
      "collapsed_sections": [],
      "authorship_tag": "ABX9TyNtYEjngAjaO9hUKSMk67Qj",
      "include_colab_link": true
    },
    "kernelspec": {
      "name": "python3",
      "display_name": "Python 3"
    },
    "language_info": {
      "name": "python"
    }
  },
  "cells": [
    {
      "cell_type": "markdown",
      "metadata": {
        "id": "view-in-github",
        "colab_type": "text"
      },
      "source": [
        "<a href=\"https://colab.research.google.com/github/celsus146/python_labs/blob/main/Untitled0.ipynb\" target=\"_parent\"><img src=\"https://colab.research.google.com/assets/colab-badge.svg\" alt=\"Open In Colab\"/></a>"
      ]
    },
    {
      "cell_type": "code",
      "source": [
        "print('документ,','который','вы читаете', sep=';' , end='!!!!')"
      ],
      "metadata": {
        "colab": {
          "base_uri": "https://localhost:8080/"
        },
        "id": "Z-IV2W6ujNPA",
        "outputId": "3a944ae5-eaff-4966-f013-fc73f38c2797"
      },
      "execution_count": 10,
      "outputs": [
        {
          "output_type": "stream",
          "name": "stdout",
          "text": [
            "документ,;который;вы читаете!!!!"
          ]
        }
      ]
    },
    {
      "cell_type": "code",
      "execution_count": 8,
      "metadata": {
        "colab": {
          "base_uri": "https://localhost:8080/"
        },
        "id": "7DlzWF6piDJw",
        "outputId": "1254d50c-c6d0-404c-a25a-bde6c7eda139"
      },
      "outputs": [
        {
          "output_type": "stream",
          "name": "stdout",
          "text": [
            "Документ, который вы читаете, размещен не на статической веб-странице,\n",
            " а в интерактивной среде под названием блокнот Colab, позволяющей писать и выполнять код.Например, вот ячейка с коротким скриптом Python, который позволяет рассчитать значение, выразить его в виде переменной и распечатать результат\n"
          ]
        }
      ],
      "source": [
        "print(\"Документ, который вы читаете, размещен не на статической веб-странице,\\n а в интерактивной среде под названием блокнот Colab, позволяющей писать и выполнять код.Например, вот ячейка с коротким скриптом Python, который позволяет рассчитать значение, выразить его в виде переменной и распечатать результат\")"
      ]
    },
    {
      "cell_type": "code",
      "source": [
        "a = 5\n",
        "second_var = 'документ'\n",
        "print(f'{second_var} #{a}')"
      ],
      "metadata": {
        "colab": {
          "base_uri": "https://localhost:8080/"
        },
        "id": "IvNOLFaGlLkQ",
        "outputId": "ee6dda4a-8b08-4fb3-e4e6-e8e0f33caab6"
      },
      "execution_count": 16,
      "outputs": [
        {
          "output_type": "stream",
          "name": "stdout",
          "text": [
            "документ #5\n"
          ]
        }
      ]
    },
    {
      "cell_type": "code",
      "source": [
        "name = input('what is your name ? ')\n",
        "print(name)"
      ],
      "metadata": {
        "colab": {
          "base_uri": "https://localhost:8080/"
        },
        "id": "JD9j03K9m6AY",
        "outputId": "d1446e0e-69d9-47e9-cc36-02238643a99f"
      },
      "execution_count": 20,
      "outputs": [
        {
          "output_type": "stream",
          "name": "stdout",
          "text": [
            "what is your name ? fil\n",
            "fil\n"
          ]
        }
      ]
    },
    {
      "cell_type": "code",
      "source": [
        "number1 = int(input(\"a= \"))\n",
        "number2 = int(input(\"b= \"))\n",
        "op=input()\n",
        "result = None\n",
        "if op=='+':\n",
        "  result = number1 + number2\n",
        "elif op =='*':\n",
        "  result = number1 * number2\n",
        "elif op=='/':\n",
        "  result = number1 / number2\n",
        "elif op=='-':\n",
        "  result = number1 - number2 \n",
        "else : print ('you have obosralsya')\n",
        "print(result)\n"
      ],
      "metadata": {
        "colab": {
          "base_uri": "https://localhost:8080/"
        },
        "id": "eL-AH6hooQbs",
        "outputId": "755f005d-ea90-47d1-8178-345f6530986a"
      },
      "execution_count": 52,
      "outputs": [
        {
          "output_type": "stream",
          "name": "stdout",
          "text": [
            "a= 5\n",
            "b= 4\n",
            "4\n",
            "you have obosralsya\n",
            "None\n"
          ]
        }
      ]
    },
    {
      "cell_type": "code",
      "source": [
        "name = input('what is your name ? :')\n",
        "age  = int(input('how old are you ? :'))\n",
        "if name == '' :\n",
        "  print('say your name,please')\n",
        "if age == '' :\n",
        "  print('say your age please')\n",
        "else : print('suck my cock')\n",
        "\n"
      ],
      "metadata": {
        "colab": {
          "base_uri": "https://localhost:8080/",
          "height": 269
        },
        "id": "SThp5kdBwG_6",
        "outputId": "b05edcb0-3673-4cea-ef25-791d4768cadf"
      },
      "execution_count": 41,
      "outputs": [
        {
          "name": "stdout",
          "output_type": "stream",
          "text": [
            "what is your name ? :5\n",
            "how old are you ? :h\n"
          ]
        },
        {
          "output_type": "error",
          "ename": "ValueError",
          "evalue": "ignored",
          "traceback": [
            "\u001b[0;31m---------------------------------------------------------------------------\u001b[0m",
            "\u001b[0;31mValueError\u001b[0m                                Traceback (most recent call last)",
            "\u001b[0;32m<ipython-input-41-b89c6a2d8fd8>\u001b[0m in \u001b[0;36m<module>\u001b[0;34m\u001b[0m\n\u001b[1;32m      1\u001b[0m \u001b[0mname\u001b[0m \u001b[0;34m=\u001b[0m \u001b[0minput\u001b[0m\u001b[0;34m(\u001b[0m\u001b[0;34m'what is your name ? :'\u001b[0m\u001b[0;34m)\u001b[0m\u001b[0;34m\u001b[0m\u001b[0;34m\u001b[0m\u001b[0m\n\u001b[0;32m----> 2\u001b[0;31m \u001b[0mage\u001b[0m  \u001b[0;34m=\u001b[0m \u001b[0mint\u001b[0m\u001b[0;34m(\u001b[0m\u001b[0minput\u001b[0m\u001b[0;34m(\u001b[0m\u001b[0;34m'how old are you ? :'\u001b[0m\u001b[0;34m)\u001b[0m\u001b[0;34m)\u001b[0m\u001b[0;34m\u001b[0m\u001b[0;34m\u001b[0m\u001b[0m\n\u001b[0m\u001b[1;32m      3\u001b[0m \u001b[0;32mif\u001b[0m \u001b[0mname\u001b[0m \u001b[0;34m==\u001b[0m \u001b[0;34m''\u001b[0m \u001b[0;34m:\u001b[0m\u001b[0;34m\u001b[0m\u001b[0;34m\u001b[0m\u001b[0m\n\u001b[1;32m      4\u001b[0m   \u001b[0mprint\u001b[0m\u001b[0;34m(\u001b[0m\u001b[0;34m'say your name,please'\u001b[0m\u001b[0;34m)\u001b[0m\u001b[0;34m\u001b[0m\u001b[0;34m\u001b[0m\u001b[0m\n\u001b[1;32m      5\u001b[0m \u001b[0;32mif\u001b[0m \u001b[0mage\u001b[0m \u001b[0;34m!=\u001b[0m \u001b[0mint\u001b[0m \u001b[0;34m:\u001b[0m\u001b[0;34m\u001b[0m\u001b[0;34m\u001b[0m\u001b[0m\n",
            "\u001b[0;31mValueError\u001b[0m: invalid literal for int() with base 10: 'h'"
          ]
        }
      ]
    },
    {
      "cell_type": "code",
      "source": [
        "boolean_var_1 = True\n",
        "boolean_var_2 = False\n"
      ],
      "metadata": {
        "id": "m1r_rPZp6kcU"
      },
      "execution_count": null,
      "outputs": []
    },
    {
      "cell_type": "code",
      "source": [
        "month = input('month :\\n')\n",
        "year = int(input('year :'))\n",
        "if month == 'january' or 'march' or 'may' or 'jule' or 'august' or ' october' or 'december' or 'february' or 'april'  or 'june' or 'september' or 'november':\n",
        " if month == 'january' or 'march' or 'may' or 'jule' or 'august' or ' october' or 'december':\n",
        "  print(31)\n",
        " elif month == 'february' and year % 4 == 0 and year % 100 != 0 or year % 400 == 0:\n",
        "  print(29)\n",
        " elif month  == 'february' and year % 4 == 0 and year % 100 == 0 or year % 400 == 0 or year % 4 != 0:\n",
        "  print(28)\n",
        " else : print(30)  \n",
        "else : print('shit') \n"
      ],
      "metadata": {
        "colab": {
          "base_uri": "https://localhost:8080/"
        },
        "id": "emPRl_b18Knp",
        "outputId": "f28b0f65-6e59-444f-d118-0bbc2cbc1dc6"
      },
      "execution_count": 60,
      "outputs": [
        {
          "output_type": "stream",
          "name": "stdout",
          "text": [
            "month :\n",
            "r\n",
            "year :2000\n",
            "31\n"
          ]
        }
      ]
    },
    {
      "cell_type": "code",
      "source": [
        "def line (x):\n",
        "  y=2+3*x\n",
        "  return y\n"
      ],
      "metadata": {
        "id": "kYVyK4yVCRzU"
      },
      "execution_count": null,
      "outputs": []
    },
    {
      "cell_type": "code",
      "source": [],
      "metadata": {
        "id": "a_O3MExaq-39"
      },
      "execution_count": null,
      "outputs": []
    }
  ]
}