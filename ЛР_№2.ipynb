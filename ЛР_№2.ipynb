{
  "nbformat": 4,
  "nbformat_minor": 0,
  "metadata": {
    "colab": {
      "provenance": [],
      "authorship_tag": "ABX9TyO037Rxi11Ti4a8ljo75bZo",
      "include_colab_link": true
    },
    "kernelspec": {
      "name": "python3",
      "display_name": "Python 3"
    },
    "language_info": {
      "name": "python"
    }
  },
  "cells": [
    {
      "cell_type": "markdown",
      "metadata": {
        "id": "view-in-github",
        "colab_type": "text"
      },
      "source": [
        "<a href=\"https://colab.research.google.com/github/celsus146/python_labs/blob/main/%D0%9B%D0%A0_%E2%84%962.ipynb\" target=\"_parent\"><img src=\"https://colab.research.google.com/assets/colab-badge.svg\" alt=\"Open In Colab\"/></a>"
      ]
    },
    {
      "cell_type": "code",
      "execution_count": null,
      "metadata": {
        "colab": {
          "base_uri": "https://localhost:8080/"
        },
        "id": "Iicqq7vyDx4-",
        "outputId": "708c439a-bfda-48e2-e6dc-551c463eddb8"
      },
      "outputs": [
        {
          "output_type": "stream",
          "name": "stdout",
          "text": [
            "задание 2, вывод наименьшего\n",
            "введите число №1 4\n",
            "введите число №2 5\n",
            "4\n",
            "задание 3, вывод наибольшего\n",
            "введите число №1 6\n",
            "введите число №2 7\n",
            "введите число №3 8\n",
            "8\n",
            "задание 4, вывод количества уникальных чисел\n",
            "введите число №1 3\n",
            "введите число №2 3\n",
            "введите число №3 1\n",
            "2\n"
          ]
        }
      ],
      "source": [
        "v='задание 2, вывод наименьшего'\n",
        "print(v)\n",
        "a=int(input('введите число №1 '))\n",
        "b=int(input('введите число №2 '))\n",
        "print(min(a,b))\n",
        "\n",
        "v='задание 3, вывод наибольшего'\n",
        "print(v)\n",
        "a=int(input('введите число №1 '))\n",
        "b=int(input('введите число №2 '))\n",
        "с=int(input('введите число №3 '))\n",
        "print(max(a,b,с ))\n",
        "\n",
        "v='задание 4, вывод количества уникальных чисел'\n",
        "print(v)\n",
        "a=int(input('введите число №1 '))\n",
        "b=int(input('введите число №2 '))\n",
        "с=int(input('введите число №3 '))\n",
        "lst=[a,b,с]\n",
        "print(len(set(lst)))\n"
      ]
    }
  ]
}