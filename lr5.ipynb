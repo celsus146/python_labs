{
  "cells": [
    {
      "cell_type": "markdown",
      "metadata": {
        "id": "view-in-github",
        "colab_type": "text"
      },
      "source": [
        "<a href=\"https://colab.research.google.com/github/celsus146/python_labs/blob/main/lr5.ipynb\" target=\"_parent\"><img src=\"https://colab.research.google.com/assets/colab-badge.svg\" alt=\"Open In Colab\"/></a>"
      ]
    },
    {
      "cell_type": "code",
      "source": [
        "class Alphabet():\n",
        "  def __init__(self, lang, letters):\n",
        "   self.lang = lang\n",
        "   self.letters = letters\n",
        "  def print(self):\n",
        "   print(self.letters)\n",
        "  def len_letters(self):\n",
        "    return len(self.letters)\n",
        "\n",
        "from string import ascii_uppercase\n",
        "\n",
        "class EngAlphabet(Alphabet):\n",
        "  def __init__(self):\n",
        "    super().__init__(\"en\", list(ascii_uppercase))\n",
        "  __letters_num = 26\n",
        "  def is_a_letter(self , let):\n",
        "   if let.upper() in self.letters:\n",
        "    return True\n",
        "   else: \n",
        "    return False\n",
        "  def get_letters_num(self):\n",
        "      return EngAlphabet.__letters_num\n",
        "  @staticmethod    \n",
        "  def example():\n",
        "    return \"it's like a piece of cake\"\n",
        "le = EngAlphabet()\n",
        "print(le.lang)\n",
        "print(le.letters)\n",
        "print(le.get_letters_num())\n",
        "print(le.is_a_letter(\"a\"))\n",
        "print(EngAlphabet.example())"
      ],
      "metadata": {
        "colab": {
          "base_uri": "https://localhost:8080/"
        },
        "id": "8vkfOTMG_khu",
        "outputId": "78b22895-0283-4ed4-d255-9bfd2dfee977"
      },
      "execution_count": 32,
      "outputs": [
        {
          "output_type": "stream",
          "name": "stdout",
          "text": [
            "en\n",
            "['A', 'B', 'C', 'D', 'E', 'F', 'G', 'H', 'I', 'J', 'K', 'L', 'M', 'N', 'O', 'P', 'Q', 'R', 'S', 'T', 'U', 'V', 'W', 'X', 'Y', 'Z']\n",
            "26\n",
            "True\n",
            "it's like a piece of cake\n"
          ]
        }
      ]
    }
  ],
  "metadata": {
    "colab": {
      "name": "Добро пожаловать в Colaboratory!",
      "toc_visible": true,
      "provenance": [],
      "include_colab_link": true
    },
    "kernelspec": {
      "display_name": "Python 3",
      "name": "python3"
    }
  },
  "nbformat": 4,
  "nbformat_minor": 0
}